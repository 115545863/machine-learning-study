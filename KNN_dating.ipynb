{
 "cells": [
  {
   "cell_type": "markdown",
   "id": "40c633d5",
   "metadata": {},
   "source": [
    "### KNN实战\n",
    "\n",
    "![image](picture/dating.png)"
   ]
  },
  {
   "cell_type": "code",
   "execution_count": null,
   "id": "a2c92fce",
   "metadata": {},
   "outputs": [],
   "source": [
    "import numpy as np\n",
    "import os\n",
    "\n",
    "def file2matrix(filename):\n",
    "    # 读取数据\n",
    "    file = os.open(\"dataset\\datingTestSet.txt\")\n",
    "    dataset = []\n",
    "    for i in file.readlines():\n",
    "        i.strip()\n",
    "    \n",
    "    \n",
    "\n",
    "\n"
   ]
  }
 ],
 "metadata": {
  "kernelspec": {
   "display_name": "ml",
   "language": "python",
   "name": "python3"
  },
  "language_info": {
   "codemirror_mode": {
    "name": "ipython",
    "version": 3
   },
   "file_extension": ".py",
   "mimetype": "text/x-python",
   "name": "python",
   "nbconvert_exporter": "python",
   "pygments_lexer": "ipython3",
   "version": "3.11.11"
  }
 },
 "nbformat": 4,
 "nbformat_minor": 5
}
